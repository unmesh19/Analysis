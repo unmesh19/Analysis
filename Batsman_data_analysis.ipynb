{
 "cells": [
  {
   "cell_type": "code",
   "execution_count": 1,
   "id": "75771cc5",
   "metadata": {},
   "outputs": [],
   "source": [
    "import pandas as pd"
   ]
  },
  {
   "cell_type": "code",
   "execution_count": 2,
   "id": "d67ca856",
   "metadata": {},
   "outputs": [],
   "source": [
    "df = pd.read_csv(\"Batsman_Data.csv\")"
   ]
  },
  {
   "cell_type": "code",
   "execution_count": 3,
   "id": "e7d48cc5",
   "metadata": {},
   "outputs": [
    {
     "data": {
      "text/html": [
       "<div>\n",
       "<style scoped>\n",
       "    .dataframe tbody tr th:only-of-type {\n",
       "        vertical-align: middle;\n",
       "    }\n",
       "\n",
       "    .dataframe tbody tr th {\n",
       "        vertical-align: top;\n",
       "    }\n",
       "\n",
       "    .dataframe thead th {\n",
       "        text-align: right;\n",
       "    }\n",
       "</style>\n",
       "<table border=\"1\" class=\"dataframe\">\n",
       "  <thead>\n",
       "    <tr style=\"text-align: right;\">\n",
       "      <th></th>\n",
       "      <th>Unnamed: 0</th>\n",
       "      <th>Bat1</th>\n",
       "      <th>Runs</th>\n",
       "      <th>BF</th>\n",
       "      <th>SR</th>\n",
       "      <th>4s</th>\n",
       "      <th>6s</th>\n",
       "      <th>Opposition</th>\n",
       "      <th>Ground</th>\n",
       "      <th>Start Date</th>\n",
       "      <th>Match_ID</th>\n",
       "      <th>Batsman</th>\n",
       "      <th>Player_ID</th>\n",
       "    </tr>\n",
       "  </thead>\n",
       "  <tbody>\n",
       "    <tr>\n",
       "      <th>0</th>\n",
       "      <td>1</td>\n",
       "      <td>DNB</td>\n",
       "      <td>-</td>\n",
       "      <td>-</td>\n",
       "      <td>-</td>\n",
       "      <td>-</td>\n",
       "      <td>-</td>\n",
       "      <td>v India</td>\n",
       "      <td>Nagpur</td>\n",
       "      <td>18 Dec 2009</td>\n",
       "      <td>ODI # 2933</td>\n",
       "      <td>Oshane Thomas</td>\n",
       "      <td>49619</td>\n",
       "    </tr>\n",
       "    <tr>\n",
       "      <th>1</th>\n",
       "      <td>2</td>\n",
       "      <td>DNB</td>\n",
       "      <td>-</td>\n",
       "      <td>-</td>\n",
       "      <td>-</td>\n",
       "      <td>-</td>\n",
       "      <td>-</td>\n",
       "      <td>v India</td>\n",
       "      <td>Kolkata</td>\n",
       "      <td>24 Dec 2009</td>\n",
       "      <td>ODI # 2935</td>\n",
       "      <td>Oshane Thomas</td>\n",
       "      <td>49619</td>\n",
       "    </tr>\n",
       "    <tr>\n",
       "      <th>2</th>\n",
       "      <td>3</td>\n",
       "      <td>DNB</td>\n",
       "      <td>-</td>\n",
       "      <td>-</td>\n",
       "      <td>-</td>\n",
       "      <td>-</td>\n",
       "      <td>-</td>\n",
       "      <td>v India</td>\n",
       "      <td>Delhi</td>\n",
       "      <td>27 Dec 2009</td>\n",
       "      <td>ODI # 2936</td>\n",
       "      <td>Oshane Thomas</td>\n",
       "      <td>49619</td>\n",
       "    </tr>\n",
       "    <tr>\n",
       "      <th>3</th>\n",
       "      <td>4</td>\n",
       "      <td>DNB</td>\n",
       "      <td>-</td>\n",
       "      <td>-</td>\n",
       "      <td>-</td>\n",
       "      <td>-</td>\n",
       "      <td>-</td>\n",
       "      <td>v Bangladesh</td>\n",
       "      <td>Dhaka</td>\n",
       "      <td>4 Jan 2010</td>\n",
       "      <td>ODI # 2937</td>\n",
       "      <td>Oshane Thomas</td>\n",
       "      <td>49619</td>\n",
       "    </tr>\n",
       "    <tr>\n",
       "      <th>4</th>\n",
       "      <td>5</td>\n",
       "      <td>DNB</td>\n",
       "      <td>-</td>\n",
       "      <td>-</td>\n",
       "      <td>-</td>\n",
       "      <td>-</td>\n",
       "      <td>-</td>\n",
       "      <td>v India</td>\n",
       "      <td>Dhaka</td>\n",
       "      <td>5 Jan 2010</td>\n",
       "      <td>ODI # 2938</td>\n",
       "      <td>Oshane Thomas</td>\n",
       "      <td>49619</td>\n",
       "    </tr>\n",
       "  </tbody>\n",
       "</table>\n",
       "</div>"
      ],
      "text/plain": [
       "   Unnamed: 0 Bat1 Runs BF SR 4s 6s    Opposition   Ground   Start Date  \\\n",
       "0           1  DNB    -  -  -  -  -       v India   Nagpur  18 Dec 2009   \n",
       "1           2  DNB    -  -  -  -  -       v India  Kolkata  24 Dec 2009   \n",
       "2           3  DNB    -  -  -  -  -       v India    Delhi  27 Dec 2009   \n",
       "3           4  DNB    -  -  -  -  -  v Bangladesh    Dhaka   4 Jan 2010   \n",
       "4           5  DNB    -  -  -  -  -       v India    Dhaka   5 Jan 2010   \n",
       "\n",
       "     Match_ID        Batsman  Player_ID  \n",
       "0  ODI # 2933  Oshane Thomas      49619  \n",
       "1  ODI # 2935  Oshane Thomas      49619  \n",
       "2  ODI # 2936  Oshane Thomas      49619  \n",
       "3  ODI # 2937  Oshane Thomas      49619  \n",
       "4  ODI # 2938  Oshane Thomas      49619  "
      ]
     },
     "execution_count": 3,
     "metadata": {},
     "output_type": "execute_result"
    }
   ],
   "source": [
    "df.head()"
   ]
  },
  {
   "cell_type": "code",
   "execution_count": 4,
   "id": "6f9cc8af",
   "metadata": {},
   "outputs": [
    {
     "data": {
      "text/html": [
       "<div>\n",
       "<style scoped>\n",
       "    .dataframe tbody tr th:only-of-type {\n",
       "        vertical-align: middle;\n",
       "    }\n",
       "\n",
       "    .dataframe tbody tr th {\n",
       "        vertical-align: top;\n",
       "    }\n",
       "\n",
       "    .dataframe thead th {\n",
       "        text-align: right;\n",
       "    }\n",
       "</style>\n",
       "<table border=\"1\" class=\"dataframe\">\n",
       "  <thead>\n",
       "    <tr style=\"text-align: right;\">\n",
       "      <th></th>\n",
       "      <th>Bat1</th>\n",
       "      <th>Runs</th>\n",
       "      <th>BF</th>\n",
       "      <th>SR</th>\n",
       "      <th>4s</th>\n",
       "      <th>6s</th>\n",
       "      <th>Opposition</th>\n",
       "      <th>Ground</th>\n",
       "      <th>Start Date</th>\n",
       "      <th>Match_ID</th>\n",
       "      <th>Batsman</th>\n",
       "    </tr>\n",
       "  </thead>\n",
       "  <tbody>\n",
       "    <tr>\n",
       "      <th>0</th>\n",
       "      <td>DNB</td>\n",
       "      <td>-</td>\n",
       "      <td>-</td>\n",
       "      <td>-</td>\n",
       "      <td>-</td>\n",
       "      <td>-</td>\n",
       "      <td>v India</td>\n",
       "      <td>Nagpur</td>\n",
       "      <td>18 Dec 2009</td>\n",
       "      <td>ODI # 2933</td>\n",
       "      <td>Oshane Thomas</td>\n",
       "    </tr>\n",
       "    <tr>\n",
       "      <th>1</th>\n",
       "      <td>DNB</td>\n",
       "      <td>-</td>\n",
       "      <td>-</td>\n",
       "      <td>-</td>\n",
       "      <td>-</td>\n",
       "      <td>-</td>\n",
       "      <td>v India</td>\n",
       "      <td>Kolkata</td>\n",
       "      <td>24 Dec 2009</td>\n",
       "      <td>ODI # 2935</td>\n",
       "      <td>Oshane Thomas</td>\n",
       "    </tr>\n",
       "    <tr>\n",
       "      <th>2</th>\n",
       "      <td>DNB</td>\n",
       "      <td>-</td>\n",
       "      <td>-</td>\n",
       "      <td>-</td>\n",
       "      <td>-</td>\n",
       "      <td>-</td>\n",
       "      <td>v India</td>\n",
       "      <td>Delhi</td>\n",
       "      <td>27 Dec 2009</td>\n",
       "      <td>ODI # 2936</td>\n",
       "      <td>Oshane Thomas</td>\n",
       "    </tr>\n",
       "    <tr>\n",
       "      <th>3</th>\n",
       "      <td>DNB</td>\n",
       "      <td>-</td>\n",
       "      <td>-</td>\n",
       "      <td>-</td>\n",
       "      <td>-</td>\n",
       "      <td>-</td>\n",
       "      <td>v Bangladesh</td>\n",
       "      <td>Dhaka</td>\n",
       "      <td>4 Jan 2010</td>\n",
       "      <td>ODI # 2937</td>\n",
       "      <td>Oshane Thomas</td>\n",
       "    </tr>\n",
       "    <tr>\n",
       "      <th>4</th>\n",
       "      <td>DNB</td>\n",
       "      <td>-</td>\n",
       "      <td>-</td>\n",
       "      <td>-</td>\n",
       "      <td>-</td>\n",
       "      <td>-</td>\n",
       "      <td>v India</td>\n",
       "      <td>Dhaka</td>\n",
       "      <td>5 Jan 2010</td>\n",
       "      <td>ODI # 2938</td>\n",
       "      <td>Oshane Thomas</td>\n",
       "    </tr>\n",
       "  </tbody>\n",
       "</table>\n",
       "</div>"
      ],
      "text/plain": [
       "  Bat1 Runs BF SR 4s 6s    Opposition   Ground   Start Date    Match_ID  \\\n",
       "0  DNB    -  -  -  -  -       v India   Nagpur  18 Dec 2009  ODI # 2933   \n",
       "1  DNB    -  -  -  -  -       v India  Kolkata  24 Dec 2009  ODI # 2935   \n",
       "2  DNB    -  -  -  -  -       v India    Delhi  27 Dec 2009  ODI # 2936   \n",
       "3  DNB    -  -  -  -  -  v Bangladesh    Dhaka   4 Jan 2010  ODI # 2937   \n",
       "4  DNB    -  -  -  -  -       v India    Dhaka   5 Jan 2010  ODI # 2938   \n",
       "\n",
       "         Batsman  \n",
       "0  Oshane Thomas  \n",
       "1  Oshane Thomas  \n",
       "2  Oshane Thomas  \n",
       "3  Oshane Thomas  \n",
       "4  Oshane Thomas  "
      ]
     },
     "execution_count": 4,
     "metadata": {},
     "output_type": "execute_result"
    }
   ],
   "source": [
    "df1 = df.drop([\"Unnamed: 0\", \"Player_ID\"], axis = 1)\n",
    "df1.head()"
   ]
  },
  {
   "cell_type": "code",
   "execution_count": 5,
   "id": "9d1ac2df",
   "metadata": {},
   "outputs": [
    {
     "data": {
      "text/html": [
       "<div>\n",
       "<style scoped>\n",
       "    .dataframe tbody tr th:only-of-type {\n",
       "        vertical-align: middle;\n",
       "    }\n",
       "\n",
       "    .dataframe tbody tr th {\n",
       "        vertical-align: top;\n",
       "    }\n",
       "\n",
       "    .dataframe thead th {\n",
       "        text-align: right;\n",
       "    }\n",
       "</style>\n",
       "<table border=\"1\" class=\"dataframe\">\n",
       "  <thead>\n",
       "    <tr style=\"text-align: right;\">\n",
       "      <th></th>\n",
       "      <th>Bat1</th>\n",
       "      <th>Runs</th>\n",
       "      <th>BF</th>\n",
       "      <th>SR</th>\n",
       "      <th>4s</th>\n",
       "      <th>6s</th>\n",
       "      <th>Opposition</th>\n",
       "      <th>Ground</th>\n",
       "      <th>Start Date</th>\n",
       "      <th>Match_ID</th>\n",
       "      <th>Batsman</th>\n",
       "    </tr>\n",
       "  </thead>\n",
       "  <tbody>\n",
       "    <tr>\n",
       "      <th>0</th>\n",
       "      <td>DNB</td>\n",
       "      <td>0</td>\n",
       "      <td>0</td>\n",
       "      <td>0</td>\n",
       "      <td>0</td>\n",
       "      <td>0</td>\n",
       "      <td>v India</td>\n",
       "      <td>Nagpur</td>\n",
       "      <td>18 Dec 2009</td>\n",
       "      <td>ODI # 2933</td>\n",
       "      <td>Oshane Thomas</td>\n",
       "    </tr>\n",
       "    <tr>\n",
       "      <th>1</th>\n",
       "      <td>DNB</td>\n",
       "      <td>0</td>\n",
       "      <td>0</td>\n",
       "      <td>0</td>\n",
       "      <td>0</td>\n",
       "      <td>0</td>\n",
       "      <td>v India</td>\n",
       "      <td>Kolkata</td>\n",
       "      <td>24 Dec 2009</td>\n",
       "      <td>ODI # 2935</td>\n",
       "      <td>Oshane Thomas</td>\n",
       "    </tr>\n",
       "    <tr>\n",
       "      <th>2</th>\n",
       "      <td>DNB</td>\n",
       "      <td>0</td>\n",
       "      <td>0</td>\n",
       "      <td>0</td>\n",
       "      <td>0</td>\n",
       "      <td>0</td>\n",
       "      <td>v India</td>\n",
       "      <td>Delhi</td>\n",
       "      <td>27 Dec 2009</td>\n",
       "      <td>ODI # 2936</td>\n",
       "      <td>Oshane Thomas</td>\n",
       "    </tr>\n",
       "    <tr>\n",
       "      <th>3</th>\n",
       "      <td>DNB</td>\n",
       "      <td>0</td>\n",
       "      <td>0</td>\n",
       "      <td>0</td>\n",
       "      <td>0</td>\n",
       "      <td>0</td>\n",
       "      <td>v Bangladesh</td>\n",
       "      <td>Dhaka</td>\n",
       "      <td>4 Jan 2010</td>\n",
       "      <td>ODI # 2937</td>\n",
       "      <td>Oshane Thomas</td>\n",
       "    </tr>\n",
       "    <tr>\n",
       "      <th>4</th>\n",
       "      <td>DNB</td>\n",
       "      <td>0</td>\n",
       "      <td>0</td>\n",
       "      <td>0</td>\n",
       "      <td>0</td>\n",
       "      <td>0</td>\n",
       "      <td>v India</td>\n",
       "      <td>Dhaka</td>\n",
       "      <td>5 Jan 2010</td>\n",
       "      <td>ODI # 2938</td>\n",
       "      <td>Oshane Thomas</td>\n",
       "    </tr>\n",
       "  </tbody>\n",
       "</table>\n",
       "</div>"
      ],
      "text/plain": [
       "  Bat1 Runs BF SR 4s 6s    Opposition   Ground   Start Date    Match_ID  \\\n",
       "0  DNB    0  0  0  0  0       v India   Nagpur  18 Dec 2009  ODI # 2933   \n",
       "1  DNB    0  0  0  0  0       v India  Kolkata  24 Dec 2009  ODI # 2935   \n",
       "2  DNB    0  0  0  0  0       v India    Delhi  27 Dec 2009  ODI # 2936   \n",
       "3  DNB    0  0  0  0  0  v Bangladesh    Dhaka   4 Jan 2010  ODI # 2937   \n",
       "4  DNB    0  0  0  0  0       v India    Dhaka   5 Jan 2010  ODI # 2938   \n",
       "\n",
       "         Batsman  \n",
       "0  Oshane Thomas  \n",
       "1  Oshane Thomas  \n",
       "2  Oshane Thomas  \n",
       "3  Oshane Thomas  \n",
       "4  Oshane Thomas  "
      ]
     },
     "execution_count": 5,
     "metadata": {},
     "output_type": "execute_result"
    }
   ],
   "source": [
    "df1 = df1.replace(\"-\", 0)\n",
    "df1.head()"
   ]
  },
  {
   "cell_type": "markdown",
   "id": "83896862",
   "metadata": {},
   "source": [
    "# Total number of players"
   ]
  },
  {
   "cell_type": "code",
   "execution_count": 6,
   "id": "dbffdf05",
   "metadata": {},
   "outputs": [],
   "source": [
    "df1[\"Batsman\"] = df1[\"Batsman\"].apply(lambda x: x.lower())"
   ]
  },
  {
   "cell_type": "code",
   "execution_count": 7,
   "id": "715954e3",
   "metadata": {},
   "outputs": [],
   "source": [
    "no_of_players = df1.groupby(\"Batsman\")[\"Batsman\"].agg(\"count\")"
   ]
  },
  {
   "cell_type": "code",
   "execution_count": 8,
   "id": "fe83d0bf",
   "metadata": {},
   "outputs": [
    {
     "data": {
      "text/plain": [
       "(149,)"
      ]
     },
     "execution_count": 8,
     "metadata": {},
     "output_type": "execute_result"
    }
   ],
   "source": [
    "no_of_players.shape"
   ]
  },
  {
   "cell_type": "raw",
   "id": "6bdc8b29",
   "metadata": {},
   "source": [
    "# Total number of players = 149"
   ]
  },
  {
   "cell_type": "markdown",
   "id": "e676b441",
   "metadata": {},
   "source": [
    "# Total number of grounds"
   ]
  },
  {
   "cell_type": "code",
   "execution_count": 9,
   "id": "953cd10b",
   "metadata": {},
   "outputs": [],
   "source": [
    "df1[\"Ground\"] = df1[\"Ground\"].apply(lambda x: x.lower())"
   ]
  },
  {
   "cell_type": "code",
   "execution_count": 10,
   "id": "b024956e",
   "metadata": {},
   "outputs": [],
   "source": [
    "no_of_ground = df1.groupby(\"Ground\")[\"Ground\"].agg(\"count\")"
   ]
  },
  {
   "cell_type": "code",
   "execution_count": 11,
   "id": "c3746605",
   "metadata": {},
   "outputs": [
    {
     "data": {
      "text/plain": [
       "(134,)"
      ]
     },
     "execution_count": 11,
     "metadata": {},
     "output_type": "execute_result"
    }
   ],
   "source": [
    "no_of_ground.shape"
   ]
  },
  {
   "cell_type": "raw",
   "id": "3fc863aa",
   "metadata": {},
   "source": [
    "# Total number of grounds = 134"
   ]
  },
  {
   "cell_type": "markdown",
   "id": "0b3f476f",
   "metadata": {},
   "source": [
    "# Total Runs per player"
   ]
  },
  {
   "cell_type": "code",
   "execution_count": 12,
   "id": "4237c2c6",
   "metadata": {},
   "outputs": [],
   "source": [
    "df1['Runs'] = df1[\"Runs\"].apply(pd.to_numeric)"
   ]
  },
  {
   "cell_type": "code",
   "execution_count": 13,
   "id": "bac12fbf",
   "metadata": {},
   "outputs": [
    {
     "data": {
      "text/plain": [
       "Batsman\n",
       "aaron finch          4052\n",
       "abid ali              112\n",
       "abu jayed               0\n",
       "adam zampa             99\n",
       "adil rashid           541\n",
       "                    ...  \n",
       "trent boult           144\n",
       "usman khawaja        1238\n",
       "vijay shankar         165\n",
       "virat kohli         10843\n",
       "yuzvendra chahal       34\n",
       "Name: Runs, Length: 149, dtype: int64"
      ]
     },
     "execution_count": 13,
     "metadata": {},
     "output_type": "execute_result"
    }
   ],
   "source": [
    "players = df1.groupby('Batsman')\n",
    "total_runs = players['Runs'].sum()\n",
    "total_runs"
   ]
  },
  {
   "cell_type": "markdown",
   "id": "fc6a1cb3",
   "metadata": {},
   "source": [
    "# Number of matches played per player"
   ]
  },
  {
   "cell_type": "code",
   "execution_count": 14,
   "id": "ffc31e3b",
   "metadata": {},
   "outputs": [
    {
     "data": {
      "text/plain": [
       "Batsman\n",
       "aaron finch         109\n",
       "abid ali              3\n",
       "abu jayed             2\n",
       "adam zampa           44\n",
       "adil rashid          88\n",
       "                   ... \n",
       "trent boult          79\n",
       "usman khawaja        31\n",
       "vijay shankar         9\n",
       "virat kohli         227\n",
       "yuzvendra chahal     41\n",
       "Name: Batsman, Length: 149, dtype: int64"
      ]
     },
     "execution_count": 14,
     "metadata": {},
     "output_type": "execute_result"
    }
   ],
   "source": [
    "no_of_players = df1.groupby(\"Batsman\")[\"Batsman\"].agg(\"count\")\n",
    "no_of_players"
   ]
  },
  {
   "cell_type": "markdown",
   "id": "f12edeb4",
   "metadata": {},
   "source": [
    "# Number of 4s per player"
   ]
  },
  {
   "cell_type": "code",
   "execution_count": 15,
   "id": "ad00c8fa",
   "metadata": {},
   "outputs": [
    {
     "data": {
      "text/plain": [
       "Batsman\n",
       "aaron finch          406\n",
       "abid ali               9\n",
       "abu jayed              0\n",
       "adam zampa             6\n",
       "adil rashid           60\n",
       "                    ... \n",
       "trent boult           13\n",
       "usman khawaja        120\n",
       "vijay shankar         14\n",
       "virat kohli         1019\n",
       "yuzvendra chahal       5\n",
       "Name: 4s, Length: 149, dtype: int64"
      ]
     },
     "execution_count": 15,
     "metadata": {},
     "output_type": "execute_result"
    }
   ],
   "source": [
    "df1['4s'] = df1[\"4s\"].apply(pd.to_numeric)\n",
    "players = df1.groupby('Batsman')\n",
    "total_runs = players['4s'].sum()\n",
    "total_runs"
   ]
  },
  {
   "cell_type": "markdown",
   "id": "6184499e",
   "metadata": {},
   "source": [
    "# Number of 6s per player"
   ]
  },
  {
   "cell_type": "code",
   "execution_count": 16,
   "id": "6efc9169",
   "metadata": {},
   "outputs": [
    {
     "data": {
      "text/plain": [
       "Batsman\n",
       "aaron finch          94\n",
       "abid ali              0\n",
       "abu jayed             0\n",
       "adam zampa            1\n",
       "adil rashid           6\n",
       "                   ... \n",
       "trent boult           6\n",
       "usman khawaja        12\n",
       "vijay shankar         4\n",
       "virat kohli         116\n",
       "yuzvendra chahal      0\n",
       "Name: 6s, Length: 149, dtype: int64"
      ]
     },
     "execution_count": 16,
     "metadata": {},
     "output_type": "execute_result"
    }
   ],
   "source": [
    "df1['6s'] = df1[\"6s\"].apply(pd.to_numeric)\n",
    "players = df1.groupby('Batsman')\n",
    "total_runs = players['6s'].sum()\n",
    "total_runs"
   ]
  }
 ],
 "metadata": {
  "kernelspec": {
   "display_name": "Python 3 (ipykernel)",
   "language": "python",
   "name": "python3"
  },
  "language_info": {
   "codemirror_mode": {
    "name": "ipython",
    "version": 3
   },
   "file_extension": ".py",
   "mimetype": "text/x-python",
   "name": "python",
   "nbconvert_exporter": "python",
   "pygments_lexer": "ipython3",
   "version": "3.9.13"
  }
 },
 "nbformat": 4,
 "nbformat_minor": 5
}
